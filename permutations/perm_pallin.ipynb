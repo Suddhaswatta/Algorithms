{
  "nbformat": 4,
  "nbformat_minor": 0,
  "metadata": {
    "colab": {
      "name": "Algorithm.ipynb",
      "provenance": []
    },
    "kernelspec": {
      "name": "python3",
      "display_name": "Python 3"
    }
  },
  "cells": [
    {
      "cell_type": "code",
      "metadata": {
        "id": "kGF0XcF-tC1H"
      },
      "source": [
        "def longestPallindrome(array):\r\n",
        "  longest = 0\r\n",
        "  for i in range(0,len(array)):\r\n",
        "    left = i-1\r\n",
        "    right = i+1\r\n",
        "    even = getPallindrome(array,i-1,i)\r\n",
        "    odd = getPallindrome(array,i-1,i+1)\r\n",
        "    current = max(even,odd)\r\n",
        "    if current > longest :\r\n",
        "      longest = current\r\n",
        "  return longest    "
      ],
      "execution_count": null,
      "outputs": []
    },
    {
      "cell_type": "code",
      "metadata": {
        "id": "CNqApauE1L_-"
      },
      "source": [
        "def getPallindrome(array,left,right):\r\n",
        "  longest = 0\r\n",
        "  longLeft = 0\r\n",
        "  longRight = 0\r\n",
        "  while  left>=0 and right<len(array) and array[left]==array[right] :\r\n",
        "      left-=1\r\n",
        "      right+=1\r\n",
        "  print(f'Longest Pallindrome :{array[left+1:right]} Size :{right - left -1}')\r\n",
        "  current = right - left - 1\r\n",
        "  if current > longest:\r\n",
        "     longLeft = left\r\n",
        "     longRight = right\r\n",
        "     longest = current\r\n",
        "  return longest"
      ],
      "execution_count": null,
      "outputs": []
    },
    {
      "cell_type": "code",
      "metadata": {
        "colab": {
          "base_uri": "https://localhost:8080/"
        },
        "id": "_sD4uYJEwSTY",
        "outputId": "e16e6efd-ff25-40e1-fba9-41cc3ebf7890"
      },
      "source": [
        "longestPallindrome(['a','b','a','e','f','e','a','d'])"
      ],
      "execution_count": null,
      "outputs": [
        {
          "output_type": "stream",
          "text": [
            "Longest Pallindrome :[] Size :0\n",
            "Longest Pallindrome :['a'] Size :1\n",
            "Longest Pallindrome :[] Size :0\n",
            "Longest Pallindrome :['a', 'b', 'a'] Size :3\n",
            "Longest Pallindrome :[] Size :0\n",
            "Longest Pallindrome :['a'] Size :1\n",
            "Longest Pallindrome :[] Size :0\n",
            "Longest Pallindrome :['e'] Size :1\n",
            "Longest Pallindrome :[] Size :0\n",
            "Longest Pallindrome :['a', 'e', 'f', 'e', 'a'] Size :5\n",
            "Longest Pallindrome :[] Size :0\n",
            "Longest Pallindrome :['e'] Size :1\n",
            "Longest Pallindrome :[] Size :0\n",
            "Longest Pallindrome :['a'] Size :1\n",
            "Longest Pallindrome :[] Size :0\n",
            "Longest Pallindrome :['d'] Size :1\n"
          ],
          "name": "stdout"
        },
        {
          "output_type": "execute_result",
          "data": {
            "text/plain": [
              "5"
            ]
          },
          "metadata": {
            "tags": []
          },
          "execution_count": 73
        }
      ]
    },
    {
      "cell_type": "code",
      "metadata": {
        "colab": {
          "base_uri": "https://localhost:8080/"
        },
        "id": "qw4rHhaCxxLm",
        "outputId": "c9a2af76-e792-45e5-bd10-dc6820e97e94"
      },
      "source": [
        "longestPallindrome(['a','f','f','a','a','b','a','e','f','e','a','d'])"
      ],
      "execution_count": null,
      "outputs": [
        {
          "output_type": "stream",
          "text": [
            "Longest Pallindrome :[] Size :0\n",
            "Longest Pallindrome :['a'] Size :1\n",
            "Longest Pallindrome :[] Size :0\n",
            "Longest Pallindrome :['f'] Size :1\n",
            "Longest Pallindrome :['a', 'f', 'f', 'a'] Size :4\n",
            "Longest Pallindrome :['f'] Size :1\n",
            "Longest Pallindrome :[] Size :0\n",
            "Longest Pallindrome :['a'] Size :1\n",
            "Longest Pallindrome :['a', 'a'] Size :2\n",
            "Longest Pallindrome :['a'] Size :1\n",
            "Longest Pallindrome :[] Size :0\n",
            "Longest Pallindrome :['a', 'b', 'a'] Size :3\n",
            "Longest Pallindrome :[] Size :0\n",
            "Longest Pallindrome :['a'] Size :1\n",
            "Longest Pallindrome :[] Size :0\n",
            "Longest Pallindrome :['e'] Size :1\n",
            "Longest Pallindrome :[] Size :0\n",
            "Longest Pallindrome :['a', 'e', 'f', 'e', 'a'] Size :5\n",
            "Longest Pallindrome :[] Size :0\n",
            "Longest Pallindrome :['e'] Size :1\n",
            "Longest Pallindrome :[] Size :0\n",
            "Longest Pallindrome :['a'] Size :1\n",
            "Longest Pallindrome :[] Size :0\n",
            "Longest Pallindrome :['d'] Size :1\n"
          ],
          "name": "stdout"
        },
        {
          "output_type": "execute_result",
          "data": {
            "text/plain": [
              "5"
            ]
          },
          "metadata": {
            "tags": []
          },
          "execution_count": 75
        }
      ]
    },
    {
      "cell_type": "code",
      "metadata": {
        "id": "22eHZjDYiwAs"
      },
      "source": [
        "def permutations(array):\r\n",
        "  permutationHelper(array,0)"
      ],
      "execution_count": null,
      "outputs": []
    },
    {
      "cell_type": "code",
      "metadata": {
        "id": "aX3Rhgy0kazs"
      },
      "source": [
        "def swap(array,i,j):\r\n",
        "  array[i],array[j] = array[j],array[i]"
      ],
      "execution_count": null,
      "outputs": []
    },
    {
      "cell_type": "code",
      "metadata": {
        "id": "EBcVRnNWjI6W"
      },
      "source": [
        "def permutationHelper(array,i):\r\n",
        "  \r\n",
        "  if i == len(array)-1:\r\n",
        "    print(array)\r\n",
        "    return \r\n",
        "  else:\r\n",
        "    for j in range(i,len(array)):\r\n",
        "      swap(array,i,j)\r\n",
        "      permutationHelper(array,i+1)\r\n",
        "      swap(array,i,j)"
      ],
      "execution_count": null,
      "outputs": []
    },
    {
      "cell_type": "code",
      "metadata": {
        "colab": {
          "base_uri": "https://localhost:8080/"
        },
        "id": "uZIwNpKDkAKH",
        "outputId": "199cc4a1-23e4-4449-9447-c6933a4cd983"
      },
      "source": [
        "permutations([1,2,3])"
      ],
      "execution_count": null,
      "outputs": [
        {
          "output_type": "stream",
          "text": [
            "[1, 2, 3]\n",
            "[1, 3, 2]\n",
            "[2, 1, 3]\n",
            "[2, 3, 1]\n",
            "[3, 2, 1]\n",
            "[3, 1, 2]\n"
          ],
          "name": "stdout"
        }
      ]
    }
  ]
}