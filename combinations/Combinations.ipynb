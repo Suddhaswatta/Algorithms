{
  "nbformat": 4,
  "nbformat_minor": 0,
  "metadata": {
    "colab": {
      "name": "Combinations.ipynb",
      "provenance": []
    },
    "kernelspec": {
      "name": "python3",
      "display_name": "Python 3"
    }
  },
  "cells": [
    {
      "cell_type": "code",
      "metadata": {
        "id": "QsVJ43ZIrBl3"
      },
      "source": [
        "array = ['A','B','C','D']"
      ],
      "execution_count": 2,
      "outputs": []
    },
    {
      "cell_type": "code",
      "metadata": {
        "id": "SkF1BQD7rHJR"
      },
      "source": [
        "def combinations(array,k):\r\n",
        "  result = []\r\n",
        "  subsets = [[]]\r\n",
        "  for item in array:\r\n",
        "    for i in range(len(subsets)):\r\n",
        "      subset = subsets[i]+[item]\r\n",
        "      if len(subset)>k:\r\n",
        "        break\r\n",
        "      if len(subset) == k:\r\n",
        "        result.append(subset)\r\n",
        "      subsets.append(subset)\r\n",
        "  return result    "
      ],
      "execution_count": 7,
      "outputs": []
    },
    {
      "cell_type": "code",
      "metadata": {
        "colab": {
          "base_uri": "https://localhost:8080/"
        },
        "id": "in4JoBtYrgfW",
        "outputId": "b83b3381-01de-4580-ce86-97843e23a058"
      },
      "source": [
        "combinations(array,2)"
      ],
      "execution_count": 12,
      "outputs": [
        {
          "output_type": "execute_result",
          "data": {
            "text/plain": [
              "[['A', 'B'], ['A', 'C'], ['B', 'C'], ['A', 'D'], ['B', 'D']]"
            ]
          },
          "metadata": {
            "tags": []
          },
          "execution_count": 12
        }
      ]
    }
  ]
}